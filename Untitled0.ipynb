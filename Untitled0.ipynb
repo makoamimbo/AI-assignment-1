{
  "nbformat": 4,
  "nbformat_minor": 0,
  "metadata": {
    "colab": {
      "name": "Untitled0.ipynb",
      "provenance": []
    },
    "kernelspec": {
      "name": "python3",
      "display_name": "Python 3"
    },
    "language_info": {
      "name": "python"
    }
  },
  "cells": [
    {
      "cell_type": "code",
      "metadata": {
        "colab": {
          "base_uri": "https://localhost:8080/",
          "height": 342
        },
        "id": "MknuV473nNqf",
        "outputId": "2830bbac-33b1-4341-ad98-e3c0c452da2b"
      },
      "source": [
        "import numpy as np\n",
        "import matplotlib.pyplot as plt\n",
        "\n",
        "import sympy\n",
        "\n",
        "from sympy import*\n",
        "\n",
        "p = -1\n",
        "A = np.array([[-1,3]])\n",
        "B = np.array([[2,1]])\n",
        "C = np.array([[5,-1]])\n",
        "\n",
        "M=print(np.concatenate((B-A,C-A)).T)\n",
        "\n",
        "# import sympy\n",
        "import sympy\n",
        "  \n",
        "# find the reduced row echelon form\n",
        "sympy.Matrix([[3,-2],[6,-4]]).rref()\n",
        "  \n",
        "# find the rank of matrix\n",
        "print(\"Rank of matrix :\",sympy.Matrix([[3,-2],[6,-4]]).rank())\n",
        "\n",
        "\n",
        "#Generate line points\n",
        "def line_gen(A,B):\n",
        "  len =10\n",
        "  x_AB = np.zeros((2,len))\n",
        "  lam_1 = np.linspace(0,1,len)\n",
        "  for i in range(len):\n",
        "    temp1 = A + lam_1[i]*(B-A)\n",
        "    x_AB[:,i]= temp1.T\n",
        "  return x_AB\n",
        "  \n",
        "  \n",
        "#Defining the points\n",
        "A = np.array([-1,3])\n",
        "B = np.array([2,1])\n",
        "C = np.array([5,-1])\n",
        "\n",
        "#Generating lines\n",
        "x_AB = line_gen(A,B)\n",
        "x_BC = line_gen(B,C)\n",
        "x_CA = line_gen(C,A)\n",
        "\n",
        "#Plotting all lines\n",
        "plt.plot(x_AB[0,:],x_AB[1,:],label='$AB$')\n",
        "plt.plot(x_BC[0,:],x_BC[1,:],label='$BC$')\n",
        "plt.plot(x_CA[0,:],x_CA[1,:],label='$CA$')\n",
        "\n",
        "plt.plot(A[0], A[1], 'o')\n",
        "plt.text(A[0] * (1), A[1] * (1 + 0.1) , 'A')\n",
        "plt.plot(B[0], B[1], 'o')\n",
        "plt.text(B[0] * (1 - 0.2), B[1] * (1 + 0.1) , 'B')\n",
        "plt.plot(C[0], C[1], 'o')\n",
        "plt.text(C[0] * (1 + 0.03), C[1] * (1 - 0.1) , 'C')\n",
        "\n",
        "plt.xlabel('$x$')\n",
        "plt.ylabel('$y$')\n",
        "plt.legend(loc='best')\n",
        "plt.grid() # minor\n"
      ],
      "execution_count": 2,
      "outputs": [
        {
          "output_type": "stream",
          "text": [
            "[[ 3  6]\n",
            " [-2 -4]]\n",
            "Rank of matrix : 1\n"
          ],
          "name": "stdout"
        },
        {
          "output_type": "display_data",
          "data": {
            "image/png": "[encoded data removed]",
            "text/plain": [
              "<Figure size 432x288 with 1 Axes>"
            ]
          },
          "metadata": {
            "needs_background": "light"
          }
        }
      ]
    }
  ]
}